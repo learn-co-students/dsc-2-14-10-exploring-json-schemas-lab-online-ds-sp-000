{
 "cells": [
  {
   "cell_type": "markdown",
   "metadata": {},
   "source": [
    "# Exploring and Transforming JSON Schemas"
   ]
  },
  {
   "cell_type": "markdown",
   "metadata": {},
   "source": [
    "# Introduction\n",
    "\n",
    "In this lesson, we'll formalize how to explore a JSON file whose structure and schema is unknown to you. This often happens in practice when you are handed a file or stumble upon one with little documentation."
   ]
  },
  {
   "cell_type": "markdown",
   "metadata": {},
   "source": [
    "## Objectives\n",
    "You will be able to:\n",
    "* Explore unknown JSON schemas\n",
    "* Access and manipulate data inside a JSON file\n",
    "* Convert JSON to alternative data formats"
   ]
  },
  {
   "cell_type": "markdown",
   "metadata": {},
   "source": [
    "## Loading the JSON file\n",
    "\n",
    "Load the data from the file disease_data.json."
   ]
  },
  {
   "cell_type": "code",
   "execution_count": 1,
   "metadata": {},
   "outputs": [],
   "source": [
    "#Your code here \n",
    "import json\n",
    "f = open('disease_data.json')\n",
    "data = json.load(f)"
   ]
  },
  {
   "cell_type": "markdown",
   "metadata": {},
   "source": [
    "## Explore the first and second levels of the schema hierarchy."
   ]
  },
  {
   "cell_type": "code",
   "execution_count": 2,
   "metadata": {},
   "outputs": [
    {
     "data": {
      "text/plain": [
       "dict"
      ]
     },
     "execution_count": 2,
     "metadata": {},
     "output_type": "execute_result"
    }
   ],
   "source": [
    "type(data)"
   ]
  },
  {
   "cell_type": "code",
   "execution_count": 3,
   "metadata": {},
   "outputs": [
    {
     "data": {
      "text/plain": [
       "dict_keys(['meta', 'data'])"
      ]
     },
     "execution_count": 3,
     "metadata": {},
     "output_type": "execute_result"
    }
   ],
   "source": [
    "data.keys()"
   ]
  },
  {
   "cell_type": "code",
   "execution_count": 4,
   "metadata": {},
   "outputs": [
    {
     "data": {
      "text/plain": [
       "(list, dict)"
      ]
     },
     "execution_count": 4,
     "metadata": {},
     "output_type": "execute_result"
    }
   ],
   "source": [
    "type(data['data']), type(data['meta'])"
   ]
  },
  {
   "cell_type": "code",
   "execution_count": 5,
   "metadata": {},
   "outputs": [
    {
     "data": {
      "text/plain": [
       "dict_keys(['view'])"
      ]
     },
     "execution_count": 5,
     "metadata": {},
     "output_type": "execute_result"
    }
   ],
   "source": [
    "data['meta'].keys()"
   ]
  },
  {
   "cell_type": "code",
   "execution_count": 6,
   "metadata": {},
   "outputs": [
    {
     "data": {
      "text/plain": [
       "dict"
      ]
     },
     "execution_count": 6,
     "metadata": {},
     "output_type": "execute_result"
    }
   ],
   "source": [
    "type(data['meta']['view'])"
   ]
  },
  {
   "cell_type": "code",
   "execution_count": 7,
   "metadata": {},
   "outputs": [
    {
     "data": {
      "text/plain": [
       "dict_keys(['id', 'name', 'attribution', 'attributionLink', 'averageRating', 'category', 'createdAt', 'description', 'displayType', 'downloadCount', 'hideFromCatalog', 'hideFromDataJson', 'indexUpdatedAt', 'licenseId', 'newBackend', 'numberOfComments', 'oid', 'provenance', 'publicationAppendEnabled', 'publicationDate', 'publicationGroup', 'publicationStage', 'rowClass', 'rowsUpdatedAt', 'rowsUpdatedBy', 'tableId', 'totalTimesRated', 'viewCount', 'viewLastModified', 'viewType', 'columns', 'grants', 'license', 'metadata', 'owner', 'query', 'rights', 'tableAuthor', 'tags', 'flags'])"
      ]
     },
     "execution_count": 7,
     "metadata": {},
     "output_type": "execute_result"
    }
   ],
   "source": [
    "data['meta']['view'].keys()"
   ]
  },
  {
   "cell_type": "code",
   "execution_count": 8,
   "metadata": {},
   "outputs": [
    {
     "name": "stdout",
     "output_type": "stream",
     "text": [
      "id <class 'str'>\n",
      "name <class 'str'>\n",
      "attribution <class 'str'>\n",
      "attributionLink <class 'str'>\n",
      "averageRating <class 'int'>\n",
      "category <class 'str'>\n",
      "createdAt <class 'int'>\n",
      "description <class 'str'>\n",
      "displayType <class 'str'>\n",
      "downloadCount <class 'int'>\n",
      "hideFromCatalog <class 'bool'>\n",
      "hideFromDataJson <class 'bool'>\n",
      "indexUpdatedAt <class 'int'>\n",
      "licenseId <class 'str'>\n",
      "newBackend <class 'bool'>\n",
      "numberOfComments <class 'int'>\n",
      "oid <class 'int'>\n",
      "provenance <class 'str'>\n",
      "publicationAppendEnabled <class 'bool'>\n",
      "publicationDate <class 'int'>\n",
      "publicationGroup <class 'int'>\n",
      "publicationStage <class 'str'>\n",
      "rowClass <class 'str'>\n",
      "rowsUpdatedAt <class 'int'>\n",
      "rowsUpdatedBy <class 'str'>\n",
      "tableId <class 'int'>\n",
      "totalTimesRated <class 'int'>\n",
      "viewCount <class 'int'>\n",
      "viewLastModified <class 'int'>\n",
      "viewType <class 'str'>\n",
      "columns <class 'list'>\n",
      "grants <class 'list'>\n",
      "license <class 'dict'>\n",
      "metadata <class 'dict'>\n",
      "owner <class 'dict'>\n",
      "query <class 'dict'>\n",
      "rights <class 'list'>\n",
      "tableAuthor <class 'dict'>\n",
      "tags <class 'list'>\n",
      "flags <class 'list'>\n"
     ]
    }
   ],
   "source": [
    "for key in data['meta']['view'].keys():\n",
    "    print(key, type(data['meta']['view'][key]))"
   ]
  },
  {
   "cell_type": "code",
   "execution_count": 9,
   "metadata": {},
   "outputs": [
    {
     "data": {
      "text/plain": [
       "60266"
      ]
     },
     "execution_count": 9,
     "metadata": {},
     "output_type": "execute_result"
    }
   ],
   "source": [
    "len(data['data'])"
   ]
  },
  {
   "cell_type": "code",
   "execution_count": 10,
   "metadata": {},
   "outputs": [
    {
     "data": {
      "text/plain": [
       "(42, 42)"
      ]
     },
     "execution_count": 10,
     "metadata": {},
     "output_type": "execute_result"
    }
   ],
   "source": [
    "len(data['data'][0]), len(data['meta']['view']['columns'])"
   ]
  },
  {
   "cell_type": "markdown",
   "metadata": {},
   "source": [
    "## Convert to a DataFrame\n",
    "\n",
    "Create a DataFrame from the JSON file. Be sure to retrive the column names for the dataframe. (Search within the 'meta' key of the master dictionary.) The DataFrame should include all 42 columns."
   ]
  },
  {
   "cell_type": "code",
   "execution_count": 11,
   "metadata": {
    "scrolled": true
   },
   "outputs": [
    {
     "data": {
      "text/plain": [
       "['sid',\n",
       " 'id',\n",
       " 'position',\n",
       " 'created_at',\n",
       " 'created_meta',\n",
       " 'updated_at',\n",
       " 'updated_meta',\n",
       " 'meta',\n",
       " 'YearStart',\n",
       " 'YearEnd',\n",
       " 'LocationAbbr',\n",
       " 'LocationDesc',\n",
       " 'DataSource',\n",
       " 'Topic',\n",
       " 'Question',\n",
       " 'Response',\n",
       " 'DataValueUnit',\n",
       " 'DataValueType',\n",
       " 'DataValue',\n",
       " 'DataValueAlt',\n",
       " 'DataValueFootnoteSymbol',\n",
       " 'DatavalueFootnote',\n",
       " 'LowConfidenceLimit',\n",
       " 'HighConfidenceLimit',\n",
       " 'StratificationCategory1',\n",
       " 'Stratification1',\n",
       " 'StratificationCategory2',\n",
       " 'Stratification2',\n",
       " 'StratificationCategory3',\n",
       " 'Stratification3',\n",
       " 'GeoLocation',\n",
       " 'ResponseID',\n",
       " 'LocationID',\n",
       " 'TopicID',\n",
       " 'QuestionID',\n",
       " 'DataValueTypeID',\n",
       " 'StratificationCategoryID1',\n",
       " 'StratificationID1',\n",
       " 'StratificationCategoryID2',\n",
       " 'StratificationID2',\n",
       " 'StratificationCategoryID3',\n",
       " 'StratificationID3']"
      ]
     },
     "execution_count": 11,
     "metadata": {},
     "output_type": "execute_result"
    }
   ],
   "source": [
    "cols = []\n",
    "for column in data['meta']['view']['columns']:\n",
    "    cols.append(column['name'])\n",
    "cols"
   ]
  },
  {
   "cell_type": "code",
   "execution_count": 12,
   "metadata": {},
   "outputs": [
    {
     "data": {
      "text/plain": [
       "[1,\n",
       " 'FF49C41F-CE8D-46C4-9164-653B1227CF6F',\n",
       " 1,\n",
       " 1527194521,\n",
       " '959778',\n",
       " 1527194521,\n",
       " '959778',\n",
       " None,\n",
       " '2016',\n",
       " '2016',\n",
       " 'US',\n",
       " 'United States',\n",
       " 'BRFSS',\n",
       " 'Alcohol',\n",
       " 'Binge drinking prevalence among adults aged >= 18 years',\n",
       " None,\n",
       " '%',\n",
       " 'Crude Prevalence',\n",
       " '16.9',\n",
       " '16.9',\n",
       " '*',\n",
       " '50 States + DC: US Median',\n",
       " '16',\n",
       " '18',\n",
       " 'Overall',\n",
       " 'Overall',\n",
       " None,\n",
       " None,\n",
       " None,\n",
       " None,\n",
       " [None, None, None, None, None],\n",
       " None,\n",
       " '59',\n",
       " 'ALC',\n",
       " 'ALC2_2',\n",
       " 'CRDPREV',\n",
       " 'OVERALL',\n",
       " 'OVR',\n",
       " None,\n",
       " None,\n",
       " None,\n",
       " None]"
      ]
     },
     "execution_count": 12,
     "metadata": {},
     "output_type": "execute_result"
    }
   ],
   "source": [
    "data['data'][0]"
   ]
  },
  {
   "cell_type": "code",
   "execution_count": 13,
   "metadata": {},
   "outputs": [
    {
     "data": {
      "text/html": [
       "<div>\n",
       "<style scoped>\n",
       "    .dataframe tbody tr th:only-of-type {\n",
       "        vertical-align: middle;\n",
       "    }\n",
       "\n",
       "    .dataframe tbody tr th {\n",
       "        vertical-align: top;\n",
       "    }\n",
       "\n",
       "    .dataframe thead th {\n",
       "        text-align: right;\n",
       "    }\n",
       "</style>\n",
       "<table border=\"1\" class=\"dataframe\">\n",
       "  <thead>\n",
       "    <tr style=\"text-align: right;\">\n",
       "      <th></th>\n",
       "      <th>sid</th>\n",
       "      <th>id</th>\n",
       "      <th>position</th>\n",
       "      <th>created_at</th>\n",
       "      <th>created_meta</th>\n",
       "      <th>updated_at</th>\n",
       "      <th>updated_meta</th>\n",
       "      <th>meta</th>\n",
       "      <th>YearStart</th>\n",
       "      <th>YearEnd</th>\n",
       "      <th>...</th>\n",
       "      <th>LocationID</th>\n",
       "      <th>TopicID</th>\n",
       "      <th>QuestionID</th>\n",
       "      <th>DataValueTypeID</th>\n",
       "      <th>StratificationCategoryID1</th>\n",
       "      <th>StratificationID1</th>\n",
       "      <th>StratificationCategoryID2</th>\n",
       "      <th>StratificationID2</th>\n",
       "      <th>StratificationCategoryID3</th>\n",
       "      <th>StratificationID3</th>\n",
       "    </tr>\n",
       "  </thead>\n",
       "  <tbody>\n",
       "    <tr>\n",
       "      <th>0</th>\n",
       "      <td>1</td>\n",
       "      <td>FF49C41F-CE8D-46C4-9164-653B1227CF6F</td>\n",
       "      <td>1</td>\n",
       "      <td>1527194521</td>\n",
       "      <td>959778</td>\n",
       "      <td>1527194521</td>\n",
       "      <td>959778</td>\n",
       "      <td>None</td>\n",
       "      <td>2016</td>\n",
       "      <td>2016</td>\n",
       "      <td>...</td>\n",
       "      <td>59</td>\n",
       "      <td>ALC</td>\n",
       "      <td>ALC2_2</td>\n",
       "      <td>CRDPREV</td>\n",
       "      <td>OVERALL</td>\n",
       "      <td>OVR</td>\n",
       "      <td>None</td>\n",
       "      <td>None</td>\n",
       "      <td>None</td>\n",
       "      <td>None</td>\n",
       "    </tr>\n",
       "    <tr>\n",
       "      <th>1</th>\n",
       "      <td>2</td>\n",
       "      <td>F4468C3D-340A-4CD2-84A3-DF554DFF065E</td>\n",
       "      <td>2</td>\n",
       "      <td>1527194521</td>\n",
       "      <td>959778</td>\n",
       "      <td>1527194521</td>\n",
       "      <td>959778</td>\n",
       "      <td>None</td>\n",
       "      <td>2016</td>\n",
       "      <td>2016</td>\n",
       "      <td>...</td>\n",
       "      <td>01</td>\n",
       "      <td>ALC</td>\n",
       "      <td>ALC2_2</td>\n",
       "      <td>CRDPREV</td>\n",
       "      <td>OVERALL</td>\n",
       "      <td>OVR</td>\n",
       "      <td>None</td>\n",
       "      <td>None</td>\n",
       "      <td>None</td>\n",
       "      <td>None</td>\n",
       "    </tr>\n",
       "    <tr>\n",
       "      <th>2</th>\n",
       "      <td>3</td>\n",
       "      <td>65609156-A343-4869-B03F-2BA62E96AC19</td>\n",
       "      <td>3</td>\n",
       "      <td>1527194521</td>\n",
       "      <td>959778</td>\n",
       "      <td>1527194521</td>\n",
       "      <td>959778</td>\n",
       "      <td>None</td>\n",
       "      <td>2016</td>\n",
       "      <td>2016</td>\n",
       "      <td>...</td>\n",
       "      <td>02</td>\n",
       "      <td>ALC</td>\n",
       "      <td>ALC2_2</td>\n",
       "      <td>CRDPREV</td>\n",
       "      <td>OVERALL</td>\n",
       "      <td>OVR</td>\n",
       "      <td>None</td>\n",
       "      <td>None</td>\n",
       "      <td>None</td>\n",
       "      <td>None</td>\n",
       "    </tr>\n",
       "    <tr>\n",
       "      <th>3</th>\n",
       "      <td>4</td>\n",
       "      <td>0DB09B00-EFEB-4AC0-9467-A7CBD2B57BF3</td>\n",
       "      <td>4</td>\n",
       "      <td>1527194521</td>\n",
       "      <td>959778</td>\n",
       "      <td>1527194521</td>\n",
       "      <td>959778</td>\n",
       "      <td>None</td>\n",
       "      <td>2016</td>\n",
       "      <td>2016</td>\n",
       "      <td>...</td>\n",
       "      <td>04</td>\n",
       "      <td>ALC</td>\n",
       "      <td>ALC2_2</td>\n",
       "      <td>CRDPREV</td>\n",
       "      <td>OVERALL</td>\n",
       "      <td>OVR</td>\n",
       "      <td>None</td>\n",
       "      <td>None</td>\n",
       "      <td>None</td>\n",
       "      <td>None</td>\n",
       "    </tr>\n",
       "    <tr>\n",
       "      <th>4</th>\n",
       "      <td>5</td>\n",
       "      <td>D98DA5BA-6FD6-40F5-A9B1-ABD45E44967B</td>\n",
       "      <td>5</td>\n",
       "      <td>1527194521</td>\n",
       "      <td>959778</td>\n",
       "      <td>1527194521</td>\n",
       "      <td>959778</td>\n",
       "      <td>None</td>\n",
       "      <td>2016</td>\n",
       "      <td>2016</td>\n",
       "      <td>...</td>\n",
       "      <td>05</td>\n",
       "      <td>ALC</td>\n",
       "      <td>ALC2_2</td>\n",
       "      <td>CRDPREV</td>\n",
       "      <td>OVERALL</td>\n",
       "      <td>OVR</td>\n",
       "      <td>None</td>\n",
       "      <td>None</td>\n",
       "      <td>None</td>\n",
       "      <td>None</td>\n",
       "    </tr>\n",
       "  </tbody>\n",
       "</table>\n",
       "<p>5 rows × 42 columns</p>\n",
       "</div>"
      ],
      "text/plain": [
       "   sid                                    id  position  created_at  \\\n",
       "0    1  FF49C41F-CE8D-46C4-9164-653B1227CF6F         1  1527194521   \n",
       "1    2  F4468C3D-340A-4CD2-84A3-DF554DFF065E         2  1527194521   \n",
       "2    3  65609156-A343-4869-B03F-2BA62E96AC19         3  1527194521   \n",
       "3    4  0DB09B00-EFEB-4AC0-9467-A7CBD2B57BF3         4  1527194521   \n",
       "4    5  D98DA5BA-6FD6-40F5-A9B1-ABD45E44967B         5  1527194521   \n",
       "\n",
       "  created_meta  updated_at updated_meta  meta YearStart YearEnd  \\\n",
       "0       959778  1527194521       959778  None      2016    2016   \n",
       "1       959778  1527194521       959778  None      2016    2016   \n",
       "2       959778  1527194521       959778  None      2016    2016   \n",
       "3       959778  1527194521       959778  None      2016    2016   \n",
       "4       959778  1527194521       959778  None      2016    2016   \n",
       "\n",
       "         ...        LocationID TopicID QuestionID DataValueTypeID  \\\n",
       "0        ...                59     ALC     ALC2_2         CRDPREV   \n",
       "1        ...                01     ALC     ALC2_2         CRDPREV   \n",
       "2        ...                02     ALC     ALC2_2         CRDPREV   \n",
       "3        ...                04     ALC     ALC2_2         CRDPREV   \n",
       "4        ...                05     ALC     ALC2_2         CRDPREV   \n",
       "\n",
       "  StratificationCategoryID1 StratificationID1 StratificationCategoryID2  \\\n",
       "0                   OVERALL               OVR                      None   \n",
       "1                   OVERALL               OVR                      None   \n",
       "2                   OVERALL               OVR                      None   \n",
       "3                   OVERALL               OVR                      None   \n",
       "4                   OVERALL               OVR                      None   \n",
       "\n",
       "  StratificationID2 StratificationCategoryID3 StratificationID3  \n",
       "0              None                      None              None  \n",
       "1              None                      None              None  \n",
       "2              None                      None              None  \n",
       "3              None                      None              None  \n",
       "4              None                      None              None  \n",
       "\n",
       "[5 rows x 42 columns]"
      ]
     },
     "execution_count": 13,
     "metadata": {},
     "output_type": "execute_result"
    }
   ],
   "source": [
    "import pandas as pd\n",
    "df = pd.DataFrame.from_dict(data['data'])\n",
    "df.columns = cols\n",
    "df.head()"
   ]
  },
  {
   "cell_type": "markdown",
   "metadata": {},
   "source": [
    "## Level-Up\n",
    "## Create a bar graph of states with the highest asthma rates for adults age 18+"
   ]
  },
  {
   "cell_type": "code",
   "execution_count": 14,
   "metadata": {},
   "outputs": [
    {
     "data": {
      "text/plain": [
       "Index(['sid', 'id', 'position', 'created_at', 'created_meta', 'updated_at',\n",
       "       'updated_meta', 'meta', 'YearStart', 'YearEnd', 'LocationAbbr',\n",
       "       'LocationDesc', 'DataSource', 'Topic', 'Question', 'Response',\n",
       "       'DataValueUnit', 'DataValueType', 'DataValue', 'DataValueAlt',\n",
       "       'DataValueFootnoteSymbol', 'DatavalueFootnote', 'LowConfidenceLimit',\n",
       "       'HighConfidenceLimit', 'StratificationCategory1', 'Stratification1',\n",
       "       'StratificationCategory2', 'Stratification2', 'StratificationCategory3',\n",
       "       'Stratification3', 'GeoLocation', 'ResponseID', 'LocationID', 'TopicID',\n",
       "       'QuestionID', 'DataValueTypeID', 'StratificationCategoryID1',\n",
       "       'StratificationID1', 'StratificationCategoryID2', 'StratificationID2',\n",
       "       'StratificationCategoryID3', 'StratificationID3'],\n",
       "      dtype='object')"
      ]
     },
     "execution_count": 14,
     "metadata": {},
     "output_type": "execute_result"
    }
   ],
   "source": [
    "df.columns"
   ]
  },
  {
   "cell_type": "code",
   "execution_count": 15,
   "metadata": {},
   "outputs": [
    {
     "data": {
      "text/plain": [
       "Influenza vaccination among noninstitutionalized adults aged 18-64 years with asthma       870\n",
       "Influenza vaccination among noninstitutionalized adults aged >= 65 years with asthma       870\n",
       "Pneumococcal vaccination among noninstitutionalized adults aged >= 65 years with asthma    870\n",
       "Pneumococcal vaccination among noninstitutionalized adults aged 18-64 years with asthma    870\n",
       "Current asthma prevalence among adults aged >= 18 years                                    870\n",
       "Asthma prevalence among women aged 18-44 years                                             325\n",
       "Name: Question, dtype: int64"
      ]
     },
     "execution_count": 15,
     "metadata": {},
     "output_type": "execute_result"
    }
   ],
   "source": [
    "df['Question'].loc[df['Topic'] == 'Asthma'].value_counts()"
   ]
  },
  {
   "cell_type": "code",
   "execution_count": 16,
   "metadata": {
    "scrolled": false
   },
   "outputs": [
    {
     "data": {
      "text/html": [
       "<div>\n",
       "<style scoped>\n",
       "    .dataframe tbody tr th:only-of-type {\n",
       "        vertical-align: middle;\n",
       "    }\n",
       "\n",
       "    .dataframe tbody tr th {\n",
       "        vertical-align: top;\n",
       "    }\n",
       "\n",
       "    .dataframe thead th {\n",
       "        text-align: right;\n",
       "    }\n",
       "</style>\n",
       "<table border=\"1\" class=\"dataframe\">\n",
       "  <thead>\n",
       "    <tr style=\"text-align: right;\">\n",
       "      <th></th>\n",
       "      <th>Topic</th>\n",
       "      <th>LocationDesc</th>\n",
       "      <th>DataValueType</th>\n",
       "      <th>DataValue</th>\n",
       "    </tr>\n",
       "  </thead>\n",
       "  <tbody>\n",
       "    <tr>\n",
       "      <th>9390</th>\n",
       "      <td>Asthma</td>\n",
       "      <td>Maine</td>\n",
       "      <td>Crude Prevalence</td>\n",
       "      <td>12.2</td>\n",
       "    </tr>\n",
       "    <tr>\n",
       "      <th>9402</th>\n",
       "      <td>Asthma</td>\n",
       "      <td>New Mexico</td>\n",
       "      <td>Crude Prevalence</td>\n",
       "      <td>11.8</td>\n",
       "    </tr>\n",
       "    <tr>\n",
       "      <th>9419</th>\n",
       "      <td>Asthma</td>\n",
       "      <td>West Virginia</td>\n",
       "      <td>Crude Prevalence</td>\n",
       "      <td>11.8</td>\n",
       "    </tr>\n",
       "    <tr>\n",
       "      <th>9388</th>\n",
       "      <td>Asthma</td>\n",
       "      <td>Kentucky</td>\n",
       "      <td>Crude Prevalence</td>\n",
       "      <td>11.6</td>\n",
       "    </tr>\n",
       "    <tr>\n",
       "      <th>9400</th>\n",
       "      <td>Asthma</td>\n",
       "      <td>New Hampshire</td>\n",
       "      <td>Crude Prevalence</td>\n",
       "      <td>11.4</td>\n",
       "    </tr>\n",
       "    <tr>\n",
       "      <th>9413</th>\n",
       "      <td>Asthma</td>\n",
       "      <td>Tennessee</td>\n",
       "      <td>Crude Prevalence</td>\n",
       "      <td>10.9</td>\n",
       "    </tr>\n",
       "    <tr>\n",
       "      <th>9393</th>\n",
       "      <td>Asthma</td>\n",
       "      <td>Michigan</td>\n",
       "      <td>Crude Prevalence</td>\n",
       "      <td>10.9</td>\n",
       "    </tr>\n",
       "    <tr>\n",
       "      <th>9382</th>\n",
       "      <td>Asthma</td>\n",
       "      <td>Hawaii</td>\n",
       "      <td>Crude Prevalence</td>\n",
       "      <td>10.7</td>\n",
       "    </tr>\n",
       "    <tr>\n",
       "      <th>9423</th>\n",
       "      <td>Asthma</td>\n",
       "      <td>Puerto Rico</td>\n",
       "      <td>Crude Prevalence</td>\n",
       "      <td>10.7</td>\n",
       "    </tr>\n",
       "    <tr>\n",
       "      <th>9410</th>\n",
       "      <td>Asthma</td>\n",
       "      <td>Rhode Island</td>\n",
       "      <td>Crude Prevalence</td>\n",
       "      <td>10.7</td>\n",
       "    </tr>\n",
       "    <tr>\n",
       "      <th>9409</th>\n",
       "      <td>Asthma</td>\n",
       "      <td>Pennsylvania</td>\n",
       "      <td>Crude Prevalence</td>\n",
       "      <td>10.6</td>\n",
       "    </tr>\n",
       "    <tr>\n",
       "      <th>9408</th>\n",
       "      <td>Asthma</td>\n",
       "      <td>Oregon</td>\n",
       "      <td>Crude Prevalence</td>\n",
       "      <td>10.5</td>\n",
       "    </tr>\n",
       "    <tr>\n",
       "      <th>9377</th>\n",
       "      <td>Asthma</td>\n",
       "      <td>Connecticut</td>\n",
       "      <td>Crude Prevalence</td>\n",
       "      <td>10.5</td>\n",
       "    </tr>\n",
       "    <tr>\n",
       "      <th>9392</th>\n",
       "      <td>Asthma</td>\n",
       "      <td>Massachusetts</td>\n",
       "      <td>Crude Prevalence</td>\n",
       "      <td>10.3</td>\n",
       "    </tr>\n",
       "    <tr>\n",
       "      <th>9385</th>\n",
       "      <td>Asthma</td>\n",
       "      <td>Indiana</td>\n",
       "      <td>Crude Prevalence</td>\n",
       "      <td>10.2</td>\n",
       "    </tr>\n",
       "    <tr>\n",
       "      <th>9416</th>\n",
       "      <td>Asthma</td>\n",
       "      <td>Vermont</td>\n",
       "      <td>Crude Prevalence</td>\n",
       "      <td>10.2</td>\n",
       "    </tr>\n",
       "    <tr>\n",
       "      <th>9407</th>\n",
       "      <td>Asthma</td>\n",
       "      <td>Oklahoma</td>\n",
       "      <td>Crude Prevalence</td>\n",
       "      <td>10.0</td>\n",
       "    </tr>\n",
       "    <tr>\n",
       "      <th>9396</th>\n",
       "      <td>Asthma</td>\n",
       "      <td>Missouri</td>\n",
       "      <td>Crude Prevalence</td>\n",
       "      <td>9.9</td>\n",
       "    </tr>\n",
       "    <tr>\n",
       "      <th>9379</th>\n",
       "      <td>Asthma</td>\n",
       "      <td>District of Columbia</td>\n",
       "      <td>Crude Prevalence</td>\n",
       "      <td>9.8</td>\n",
       "    </tr>\n",
       "    <tr>\n",
       "      <th>9406</th>\n",
       "      <td>Asthma</td>\n",
       "      <td>Ohio</td>\n",
       "      <td>Crude Prevalence</td>\n",
       "      <td>9.7</td>\n",
       "    </tr>\n",
       "    <tr>\n",
       "      <th>9371</th>\n",
       "      <td>Asthma</td>\n",
       "      <td>Alabama</td>\n",
       "      <td>Crude Prevalence</td>\n",
       "      <td>9.7</td>\n",
       "    </tr>\n",
       "    <tr>\n",
       "      <th>9418</th>\n",
       "      <td>Asthma</td>\n",
       "      <td>Washington</td>\n",
       "      <td>Crude Prevalence</td>\n",
       "      <td>9.6</td>\n",
       "    </tr>\n",
       "    <tr>\n",
       "      <th>9421</th>\n",
       "      <td>Asthma</td>\n",
       "      <td>Wyoming</td>\n",
       "      <td>Crude Prevalence</td>\n",
       "      <td>9.5</td>\n",
       "    </tr>\n",
       "    <tr>\n",
       "      <th>9403</th>\n",
       "      <td>Asthma</td>\n",
       "      <td>New York</td>\n",
       "      <td>Crude Prevalence</td>\n",
       "      <td>9.5</td>\n",
       "    </tr>\n",
       "    <tr>\n",
       "      <th>9391</th>\n",
       "      <td>Asthma</td>\n",
       "      <td>Maryland</td>\n",
       "      <td>Crude Prevalence</td>\n",
       "      <td>9.4</td>\n",
       "    </tr>\n",
       "    <tr>\n",
       "      <th>9373</th>\n",
       "      <td>Asthma</td>\n",
       "      <td>Arizona</td>\n",
       "      <td>Crude Prevalence</td>\n",
       "      <td>9.4</td>\n",
       "    </tr>\n",
       "    <tr>\n",
       "      <th>9383</th>\n",
       "      <td>Asthma</td>\n",
       "      <td>Idaho</td>\n",
       "      <td>Crude Prevalence</td>\n",
       "      <td>9.3</td>\n",
       "    </tr>\n",
       "    <tr>\n",
       "      <th>9405</th>\n",
       "      <td>Asthma</td>\n",
       "      <td>North Dakota</td>\n",
       "      <td>Crude Prevalence</td>\n",
       "      <td>9.0</td>\n",
       "    </tr>\n",
       "    <tr>\n",
       "      <th>9384</th>\n",
       "      <td>Asthma</td>\n",
       "      <td>Illinois</td>\n",
       "      <td>Crude Prevalence</td>\n",
       "      <td>8.9</td>\n",
       "    </tr>\n",
       "    <tr>\n",
       "      <th>9387</th>\n",
       "      <td>Asthma</td>\n",
       "      <td>Kansas</td>\n",
       "      <td>Crude Prevalence</td>\n",
       "      <td>8.8</td>\n",
       "    </tr>\n",
       "    <tr>\n",
       "      <th>9372</th>\n",
       "      <td>Asthma</td>\n",
       "      <td>Alaska</td>\n",
       "      <td>Crude Prevalence</td>\n",
       "      <td>8.8</td>\n",
       "    </tr>\n",
       "    <tr>\n",
       "      <th>9376</th>\n",
       "      <td>Asthma</td>\n",
       "      <td>Colorado</td>\n",
       "      <td>Crude Prevalence</td>\n",
       "      <td>8.8</td>\n",
       "    </tr>\n",
       "    <tr>\n",
       "      <th>9411</th>\n",
       "      <td>Asthma</td>\n",
       "      <td>South Carolina</td>\n",
       "      <td>Crude Prevalence</td>\n",
       "      <td>8.8</td>\n",
       "    </tr>\n",
       "    <tr>\n",
       "      <th>9417</th>\n",
       "      <td>Asthma</td>\n",
       "      <td>Virginia</td>\n",
       "      <td>Crude Prevalence</td>\n",
       "      <td>8.6</td>\n",
       "    </tr>\n",
       "    <tr>\n",
       "      <th>9420</th>\n",
       "      <td>Asthma</td>\n",
       "      <td>Wisconsin</td>\n",
       "      <td>Crude Prevalence</td>\n",
       "      <td>8.5</td>\n",
       "    </tr>\n",
       "    <tr>\n",
       "      <th>9374</th>\n",
       "      <td>Asthma</td>\n",
       "      <td>Arkansas</td>\n",
       "      <td>Crude Prevalence</td>\n",
       "      <td>8.5</td>\n",
       "    </tr>\n",
       "    <tr>\n",
       "      <th>9378</th>\n",
       "      <td>Asthma</td>\n",
       "      <td>Delaware</td>\n",
       "      <td>Crude Prevalence</td>\n",
       "      <td>8.5</td>\n",
       "    </tr>\n",
       "    <tr>\n",
       "      <th>9397</th>\n",
       "      <td>Asthma</td>\n",
       "      <td>Montana</td>\n",
       "      <td>Crude Prevalence</td>\n",
       "      <td>8.5</td>\n",
       "    </tr>\n",
       "    <tr>\n",
       "      <th>9381</th>\n",
       "      <td>Asthma</td>\n",
       "      <td>Georgia</td>\n",
       "      <td>Crude Prevalence</td>\n",
       "      <td>8.5</td>\n",
       "    </tr>\n",
       "    <tr>\n",
       "      <th>9398</th>\n",
       "      <td>Asthma</td>\n",
       "      <td>Nebraska</td>\n",
       "      <td>Crude Prevalence</td>\n",
       "      <td>8.3</td>\n",
       "    </tr>\n",
       "    <tr>\n",
       "      <th>9389</th>\n",
       "      <td>Asthma</td>\n",
       "      <td>Louisiana</td>\n",
       "      <td>Crude Prevalence</td>\n",
       "      <td>8.3</td>\n",
       "    </tr>\n",
       "    <tr>\n",
       "      <th>9401</th>\n",
       "      <td>Asthma</td>\n",
       "      <td>New Jersey</td>\n",
       "      <td>Crude Prevalence</td>\n",
       "      <td>8.2</td>\n",
       "    </tr>\n",
       "    <tr>\n",
       "      <th>9415</th>\n",
       "      <td>Asthma</td>\n",
       "      <td>Utah</td>\n",
       "      <td>Crude Prevalence</td>\n",
       "      <td>8.2</td>\n",
       "    </tr>\n",
       "    <tr>\n",
       "      <th>9404</th>\n",
       "      <td>Asthma</td>\n",
       "      <td>North Carolina</td>\n",
       "      <td>Crude Prevalence</td>\n",
       "      <td>8.0</td>\n",
       "    </tr>\n",
       "    <tr>\n",
       "      <th>9395</th>\n",
       "      <td>Asthma</td>\n",
       "      <td>Mississippi</td>\n",
       "      <td>Crude Prevalence</td>\n",
       "      <td>8.0</td>\n",
       "    </tr>\n",
       "    <tr>\n",
       "      <th>9399</th>\n",
       "      <td>Asthma</td>\n",
       "      <td>Nevada</td>\n",
       "      <td>Crude Prevalence</td>\n",
       "      <td>7.9</td>\n",
       "    </tr>\n",
       "    <tr>\n",
       "      <th>9386</th>\n",
       "      <td>Asthma</td>\n",
       "      <td>Iowa</td>\n",
       "      <td>Crude Prevalence</td>\n",
       "      <td>7.8</td>\n",
       "    </tr>\n",
       "    <tr>\n",
       "      <th>9375</th>\n",
       "      <td>Asthma</td>\n",
       "      <td>California</td>\n",
       "      <td>Crude Prevalence</td>\n",
       "      <td>7.8</td>\n",
       "    </tr>\n",
       "    <tr>\n",
       "      <th>9414</th>\n",
       "      <td>Asthma</td>\n",
       "      <td>Texas</td>\n",
       "      <td>Crude Prevalence</td>\n",
       "      <td>7.6</td>\n",
       "    </tr>\n",
       "    <tr>\n",
       "      <th>9394</th>\n",
       "      <td>Asthma</td>\n",
       "      <td>Minnesota</td>\n",
       "      <td>Crude Prevalence</td>\n",
       "      <td>7.6</td>\n",
       "    </tr>\n",
       "    <tr>\n",
       "      <th>9380</th>\n",
       "      <td>Asthma</td>\n",
       "      <td>Florida</td>\n",
       "      <td>Crude Prevalence</td>\n",
       "      <td>6.7</td>\n",
       "    </tr>\n",
       "    <tr>\n",
       "      <th>9424</th>\n",
       "      <td>Asthma</td>\n",
       "      <td>Virgin Islands</td>\n",
       "      <td>Crude Prevalence</td>\n",
       "      <td>6.3</td>\n",
       "    </tr>\n",
       "    <tr>\n",
       "      <th>9412</th>\n",
       "      <td>Asthma</td>\n",
       "      <td>South Dakota</td>\n",
       "      <td>Crude Prevalence</td>\n",
       "      <td>6.2</td>\n",
       "    </tr>\n",
       "    <tr>\n",
       "      <th>9422</th>\n",
       "      <td>Asthma</td>\n",
       "      <td>Guam</td>\n",
       "      <td>Crude Prevalence</td>\n",
       "      <td>5.1</td>\n",
       "    </tr>\n",
       "  </tbody>\n",
       "</table>\n",
       "</div>"
      ],
      "text/plain": [
       "       Topic          LocationDesc     DataValueType  DataValue\n",
       "9390  Asthma                 Maine  Crude Prevalence       12.2\n",
       "9402  Asthma            New Mexico  Crude Prevalence       11.8\n",
       "9419  Asthma         West Virginia  Crude Prevalence       11.8\n",
       "9388  Asthma              Kentucky  Crude Prevalence       11.6\n",
       "9400  Asthma         New Hampshire  Crude Prevalence       11.4\n",
       "9413  Asthma             Tennessee  Crude Prevalence       10.9\n",
       "9393  Asthma              Michigan  Crude Prevalence       10.9\n",
       "9382  Asthma                Hawaii  Crude Prevalence       10.7\n",
       "9423  Asthma           Puerto Rico  Crude Prevalence       10.7\n",
       "9410  Asthma          Rhode Island  Crude Prevalence       10.7\n",
       "9409  Asthma          Pennsylvania  Crude Prevalence       10.6\n",
       "9408  Asthma                Oregon  Crude Prevalence       10.5\n",
       "9377  Asthma           Connecticut  Crude Prevalence       10.5\n",
       "9392  Asthma         Massachusetts  Crude Prevalence       10.3\n",
       "9385  Asthma               Indiana  Crude Prevalence       10.2\n",
       "9416  Asthma               Vermont  Crude Prevalence       10.2\n",
       "9407  Asthma              Oklahoma  Crude Prevalence       10.0\n",
       "9396  Asthma              Missouri  Crude Prevalence        9.9\n",
       "9379  Asthma  District of Columbia  Crude Prevalence        9.8\n",
       "9406  Asthma                  Ohio  Crude Prevalence        9.7\n",
       "9371  Asthma               Alabama  Crude Prevalence        9.7\n",
       "9418  Asthma            Washington  Crude Prevalence        9.6\n",
       "9421  Asthma               Wyoming  Crude Prevalence        9.5\n",
       "9403  Asthma              New York  Crude Prevalence        9.5\n",
       "9391  Asthma              Maryland  Crude Prevalence        9.4\n",
       "9373  Asthma               Arizona  Crude Prevalence        9.4\n",
       "9383  Asthma                 Idaho  Crude Prevalence        9.3\n",
       "9405  Asthma          North Dakota  Crude Prevalence        9.0\n",
       "9384  Asthma              Illinois  Crude Prevalence        8.9\n",
       "9387  Asthma                Kansas  Crude Prevalence        8.8\n",
       "9372  Asthma                Alaska  Crude Prevalence        8.8\n",
       "9376  Asthma              Colorado  Crude Prevalence        8.8\n",
       "9411  Asthma        South Carolina  Crude Prevalence        8.8\n",
       "9417  Asthma              Virginia  Crude Prevalence        8.6\n",
       "9420  Asthma             Wisconsin  Crude Prevalence        8.5\n",
       "9374  Asthma              Arkansas  Crude Prevalence        8.5\n",
       "9378  Asthma              Delaware  Crude Prevalence        8.5\n",
       "9397  Asthma               Montana  Crude Prevalence        8.5\n",
       "9381  Asthma               Georgia  Crude Prevalence        8.5\n",
       "9398  Asthma              Nebraska  Crude Prevalence        8.3\n",
       "9389  Asthma             Louisiana  Crude Prevalence        8.3\n",
       "9401  Asthma            New Jersey  Crude Prevalence        8.2\n",
       "9415  Asthma                  Utah  Crude Prevalence        8.2\n",
       "9404  Asthma        North Carolina  Crude Prevalence        8.0\n",
       "9395  Asthma           Mississippi  Crude Prevalence        8.0\n",
       "9399  Asthma                Nevada  Crude Prevalence        7.9\n",
       "9386  Asthma                  Iowa  Crude Prevalence        7.8\n",
       "9375  Asthma            California  Crude Prevalence        7.8\n",
       "9414  Asthma                 Texas  Crude Prevalence        7.6\n",
       "9394  Asthma             Minnesota  Crude Prevalence        7.6\n",
       "9380  Asthma               Florida  Crude Prevalence        6.7\n",
       "9424  Asthma        Virgin Islands  Crude Prevalence        6.3\n",
       "9412  Asthma          South Dakota  Crude Prevalence        6.2\n",
       "9422  Asthma                  Guam  Crude Prevalence        5.1"
      ]
     },
     "execution_count": 16,
     "metadata": {},
     "output_type": "execute_result"
    }
   ],
   "source": [
    "q = 'Current asthma prevalence among adults aged >= 18 years'\n",
    "filters = (df['Topic'] == 'Asthma') & (df['DataValueType'] == 'Crude Prevalence') & (df['Question'] == q) & (df['StratificationID1'] == 'OVR') & (df['LocationDesc'] != 'United States')\n",
    "asthma_df = df[['Topic', 'LocationDesc', 'DataValueType', 'DataValue']].loc[filters]\n",
    "asthma_df['DataValue'] = pd.to_numeric(asthma_df['DataValue'])\n",
    "asthma_df = asthma_df.sort_values(by='DataValue', ascending=False)\n",
    "asthma_df"
   ]
  },
  {
   "cell_type": "code",
   "execution_count": 21,
   "metadata": {},
   "outputs": [
    {
     "data": {
      "text/plain": [
       "Text(0.5,1,'Top 10 States with Highest Asthma Rates')"
      ]
     },
     "execution_count": 21,
     "metadata": {},
     "output_type": "execute_result"
    },
    {
     "data": {
      "image/png": "[encoded data removed]",
      "text/plain": [
       "<Figure size 1080x576 with 1 Axes>"
      ]
     },
     "metadata": {},
     "output_type": "display_data"
    }
   ],
   "source": [
    "import matplotlib.pyplot as plt\n",
    "plt.style.use('ggplot')\n",
    "\n",
    "plt.figure(figsize=(15, 8))\n",
    "plt.bar(asthma_df['LocationDesc'].head(10), asthma_df['DataValue'].head(10))\n",
    "plt.xlabel('State')\n",
    "plt.ylabel('Rate of Infection (%)')\n",
    "plt.title('Top 10 States with Highest Asthma Rates')"
   ]
  },
  {
   "cell_type": "markdown",
   "metadata": {},
   "source": [
    "## Level-Up!\n",
    "## Create a function (or class) that returns an outline of the schema structure like this: \n",
    "<img src=\"outline.jpg\" width=350>\n",
    "\n",
    "Rules:\n",
    "* Your outline should follow the numbering outline above (I, A, 1, a, i).\n",
    "* Your outline should be properly indented! (Four spaces or one tab per indentation level.)\n",
    "* Your function goes to at least a depth of 5 (Level-up: create a parameter so that the user can specify this)\n",
    "* If an entry is a dictionary, list its keys as the subheadings\n",
    "* After listing a key name (where applicable) include a space, a dash and the data type of the entry\n",
    "* If an entry is a dict or list put in parentheses how many items are in the entry\n",
    "* lists will not have key names for their entries (they're just indexed)\n",
    "* For subheadings of a list, state their datatypes. \n",
    "* If a dictionary or list is more then 5 items long, only show the first 5 (we want to limit our previews); make an arbitrary order choice for dictionaries. (Level-up: Parallel to above; allow user to specify number of items to preview for large subheading collections.)"
   ]
  },
  {
   "cell_type": "code",
   "execution_count": 18,
   "metadata": {},
   "outputs": [],
   "source": [
    "# Your code here; you will probably want to define subfunctions.\n",
    "def print_obj_outline(json_obj):\n",
    "    \n",
    "    return outline"
   ]
  },
  {
   "cell_type": "code",
   "execution_count": 19,
   "metadata": {},
   "outputs": [
    {
     "ename": "NameError",
     "evalue": "name 'outline' is not defined",
     "output_type": "error",
     "traceback": [
      "\u001b[0;31m---------------------------------------------------------------------------\u001b[0m",
      "\u001b[0;31mNameError\u001b[0m                                 Traceback (most recent call last)",
      "\u001b[0;32m<ipython-input-19-a23e178e02c2>\u001b[0m in \u001b[0;36m<module>\u001b[0;34m()\u001b[0m\n\u001b[0;32m----> 1\u001b[0;31m \u001b[0moutline\u001b[0m \u001b[0;34m=\u001b[0m \u001b[0mprint_obj_outline\u001b[0m\u001b[0;34m(\u001b[0m\u001b[0mdata\u001b[0m\u001b[0;34m)\u001b[0m\u001b[0;34m\u001b[0m\u001b[0m\n\u001b[0m",
      "\u001b[0;32m<ipython-input-18-21bb878c4b2c>\u001b[0m in \u001b[0;36mprint_obj_outline\u001b[0;34m(json_obj)\u001b[0m\n\u001b[1;32m      1\u001b[0m \u001b[0;31m# Your code here; you will probably want to define subfunctions.\u001b[0m\u001b[0;34m\u001b[0m\u001b[0;34m\u001b[0m\u001b[0m\n\u001b[1;32m      2\u001b[0m \u001b[0;32mdef\u001b[0m \u001b[0mprint_obj_outline\u001b[0m\u001b[0;34m(\u001b[0m\u001b[0mjson_obj\u001b[0m\u001b[0;34m)\u001b[0m\u001b[0;34m:\u001b[0m\u001b[0;34m\u001b[0m\u001b[0m\n\u001b[0;32m----> 3\u001b[0;31m     \u001b[0;32mreturn\u001b[0m \u001b[0moutline\u001b[0m\u001b[0;34m\u001b[0m\u001b[0m\n\u001b[0m",
      "\u001b[0;31mNameError\u001b[0m: name 'outline' is not defined"
     ]
    }
   ],
   "source": [
    "outline = print_obj_outline(data)"
   ]
  },
  {
   "cell_type": "code",
   "execution_count": null,
   "metadata": {},
   "outputs": [],
   "source": [
    "print(outline) #Your function should produce the following output for this json object (and work for all json files!)"
   ]
  },
  {
   "cell_type": "markdown",
   "metadata": {},
   "source": [
    "## Summary\n",
    "\n",
    "Well done! In this lab you got some extended practice exploring the structure of JSON files and writing a recursive generalized function for outlining a JSON file's schema! "
   ]
  }
 ],
 "metadata": {
  "kernelspec": {
   "display_name": "Python 3",
   "language": "python",
   "name": "python3"
  },
  "language_info": {
   "codemirror_mode": {
    "name": "ipython",
    "version": 3
   },
   "file_extension": ".py",
   "mimetype": "text/x-python",
   "name": "python",
   "nbconvert_exporter": "python",
   "pygments_lexer": "ipython3",
   "version": "3.7.0"
  }
 },
 "nbformat": 4,
 "nbformat_minor": 2
}
